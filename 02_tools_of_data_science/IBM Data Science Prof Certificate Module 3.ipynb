{
 "cells": [
  {
   "cell_type": "markdown",
   "metadata": {},
   "source": [
    "<center>\n",
    "    <img src=\"https://cf-courses-data.s3.us.cloud-object-storage.appdomain.cloud/IBMDeveloperSkillsNetwork-DS0105EN-SkillsNetwork/labs/Module2/images/SN_web_lightmode.png\" width=\"300\" alt=\"cognitiveclass.ai logo\">\n",
    "</center>\n"
   ]
  },
  {
   "cell_type": "markdown",
   "metadata": {},
   "source": [
    "#### Add your code below following the instructions given in the course\n"
   ]
  },
  {
   "cell_type": "markdown",
   "metadata": {},
   "source": [
    "# My Jupyter Notebook on IBM Watson Studio"
   ]
  },
  {
   "cell_type": "markdown",
   "metadata": {},
   "source": [
    "**Sarah E. Stegall-Rodriguez**\n",
    "\n",
    "Data Scientist"
   ]
  },
  {
   "cell_type": "markdown",
   "metadata": {},
   "source": [
    "*I am interested in data science because it is area where I will be able to apply the skills that I have learned in my graduate program to applied settings. I am interested in learning more advanced applications of data analysis.*"
   ]
  },
  {
   "cell_type": "markdown",
   "metadata": {},
   "source": [
    "### My code in cell 4 prints the phrase, \"Hello class!\""
   ]
  },
  {
   "cell_type": "code",
   "execution_count": 4,
   "metadata": {},
   "outputs": [
    {
     "name": "stdout",
     "output_type": "stream",
     "text": [
      "Hello class!\n"
     ]
    }
   ],
   "source": [
    "print(\"Hello class!\")"
   ]
  },
  {
   "cell_type": "markdown",
   "metadata": {},
   "source": [
    "__To Do List__\n",
    "\n",
    "1. Write a to-do list.\n",
    "2. Do the things on the list.\n",
    "\n",
    "***\n",
    "\n",
    "__Shopping List__\n",
    "\n",
    "* Pizza\n",
    "* Beer\n",
    "\n",
    "\n",
    "***\n",
    "\n",
    "`Highlighted code!`\n",
    "\n",
    "***\n",
    "\n",
    "Visit the <a href=\"https://datalemur.com/\" target=\"_blank\">Data Lemur</a> website for Data Analyst interview questions.\n",
    "\n",
    "***\n",
    "\n",
    "A cute dog \n",
    "![LOGO](data:image/jpeg;base64,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)"
   ]
  }
 ],
 "metadata": {
  "kernelspec": {
   "display_name": "Python 3 (ipykernel)",
   "language": "python",
   "name": "python3"
  },
  "language_info": {
   "codemirror_mode": {
    "name": "ipython",
    "version": 3
   },
   "file_extension": ".py",
   "mimetype": "text/x-python",
   "name": "python",
   "nbconvert_exporter": "python",
   "pygments_lexer": "ipython3",
   "version": "3.9.13"
  }
 },
 "nbformat": 4,
 "nbformat_minor": 4
}
